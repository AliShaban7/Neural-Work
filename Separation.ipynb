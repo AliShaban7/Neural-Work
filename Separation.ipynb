{
 "cells": [
  {
   "cell_type": "code",
   "execution_count": 1,
   "id": "0d25c4e1",
   "metadata": {},
   "outputs": [],
   "source": [
    "import numpy as np\n",
    "import matplotlib.pyplot as plt"
   ]
  },
  {
   "cell_type": "code",
   "execution_count": 2,
   "id": "cc918fd2",
   "metadata": {},
   "outputs": [],
   "source": [
    "x0 = np.array(([0,0,1], [-1,1,1], [1,-1,1])).T\n",
    "x1 = np.array(([2,2,1], [2,3,1], [3,2,1])).T"
   ]
  },
  {
   "cell_type": "code",
   "execution_count": 19,
   "id": "edc277ef",
   "metadata": {},
   "outputs": [
    {
     "name": "stdout",
     "output_type": "stream",
     "text": [
      "Initial weight is [[1.  0.  0.5]]\n"
     ]
    },
    {
     "data": {
      "image/png": "[encoded data removed]",
      "text/plain": [
       "<Figure size 432x288 with 1 Axes>"
      ]
     },
     "metadata": {
      "needs_background": "light"
     },
     "output_type": "display_data"
    }
   ],
   "source": [
    "# Initialize the weights and bias\n",
    "w = np.array([[1, 0, 0.5]])\n",
    "\n",
    "# Print the initial weight\n",
    "print(\"Initial weight is\", w)\n",
    "\n",
    "# Calculate the initial separating line\n",
    "lx = np.array([-2, 4])\n",
    "if w[0, 1] == 0:\n",
    "    if w[0, 0] == 0:\n",
    "        print(\"Not a line.\")\n",
    "    else:\n",
    "        lx = np.array([w[0, 2]/w[0, 0], w[0, 2]/w[0, 0]])\n",
    "        ly = np.array([-2, 4])\n",
    "else:\n",
    "    ly = (-w[0, 0]*lx-w[0, 2])/w[0, 1]\n",
    "\n",
    "# Plot the initial separating line\n",
    "plt.scatter(x0[0, :], x0[1, :], c='orange')\n",
    "plt.scatter(x1[0, :], x1[1, :], c='blue')\n",
    "if w[0, 1] != 0 or w[0, 0] != 0:\n",
    "    plt.plot(lx, ly) \n",
    "plt.grid()\n",
    "plt.show()"
   ]
  },
  {
   "cell_type": "code",
   "execution_count": 20,
   "id": "645ed183",
   "metadata": {},
   "outputs": [
    {
     "data": {
      "image/png": "[encoded data removed]",
      "text/plain": [
       "<Figure size 432x288 with 1 Axes>"
      ]
     },
     "metadata": {
      "needs_background": "light"
     },
     "output_type": "display_data"
    },
    {
     "name": "stdout",
     "output_type": "stream",
     "text": [
      "Final weight is [[ 0.   1.  -1.5]]\n",
      "Training took 2 epochs.\n"
     ]
    }
   ],
   "source": [
    "# Train perceptron for a maximum of 10 epochs\n",
    "max_epochs = 10\n",
    "stopflag = False\n",
    "for epoch in range(max_epochs):\n",
    "    # Update weight vector based on misclassified points\n",
    "    for i in range(3):\n",
    "        if np.dot(w, x0[:, i]) > 0:\n",
    "            w -= x0[:, i].T\n",
    "            stopflag = False\n",
    "    for i in range(3):\n",
    "        if np.dot(w, x1[:, i]) <= 0:\n",
    "            w += x1[:, i].T\n",
    "            stopflag = False\n",
    "    # Check if perceptron has correctly classified all points\n",
    "    if stopflag:\n",
    "        break\n",
    "    stopflag = True\n",
    "# Check if perceptron has learned a valid line\n",
    "if w[0, 1] != 0 or w[0, 0] != 0:\n",
    "    lx = np.array([-1, 3])\n",
    "    ly = (-w[0, 0]*lx-w[0, 2])/w[0, 1]\n",
    "    # Plot data and learned line\n",
    "    fig = plt.figure()\n",
    "    plt.scatter(x0[0, :], x0[1, :], c='orange')\n",
    "    plt.scatter(x1[0, :], x1[1, :], c='blue')\n",
    "    plt.plot(lx, ly)\n",
    "    plt.grid()\n",
    "    plt.show()\n",
    "    # Print final weight and number of epochs\n",
    "    print(\"Final weight is\", w)\n",
    "    print(\"Training took\", epoch+1, \"epochs.\")\n",
    "else:\n",
    "    print(\"Not a line.\")"
   ]
  },
  {
   "cell_type": "code",
   "execution_count": null,
   "id": "52d8e0ec",
   "metadata": {},
   "outputs": [],
   "source": []
  }
 ],
 "metadata": {
  "kernelspec": {
   "display_name": "Python 3 (ipykernel)",
   "language": "python",
   "name": "python3"
  },
  "language_info": {
   "codemirror_mode": {
    "name": "ipython",
    "version": 3
   },
   "file_extension": ".py",
   "mimetype": "text/x-python",
   "name": "python",
   "nbconvert_exporter": "python",
   "pygments_lexer": "ipython3",
   "version": "3.8.3"
  }
 },
 "nbformat": 4,
 "nbformat_minor": 5
}
